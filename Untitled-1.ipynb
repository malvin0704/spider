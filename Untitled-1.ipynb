{
 "cells": [
  {
   "cell_type": "code",
   "execution_count": 12,
   "metadata": {},
   "outputs": [],
   "source": [
    "import scrapy\n"
   ]
  },
  {
   "cell_type": "code",
   "execution_count": null,
   "metadata": {},
   "outputs": [],
   "source": [
    "class ImdbSpider(scrapy.Spider):\n",
    "    name = \"imdb_spider\"\n",
    "    start_url= ['https://www.imdb.com/title/tt0379623/']"
   ]
  },
  {
   "cell_type": "code",
   "execution_count": null,
   "metadata": {},
   "outputs": [],
   "source": [
    "def parse(self,response):\n",
    "    page = response.url.split('/')[-2]\n",
    "    filename= f\"quotes\""
   ]
  }
 ],
 "metadata": {
  "interpreter": {
   "hash": "aef2ad4d57fa666ceb749ecd3c871c87bb6bf49d03a66e4137623469e0d5adb5"
  },
  "kernelspec": {
   "display_name": "Python 3.8.2 64-bit ('PIC16B': conda)",
   "language": "python",
   "name": "python3"
  },
  "language_info": {
   "codemirror_mode": {
    "name": "ipython",
    "version": 3
   },
   "file_extension": ".py",
   "mimetype": "text/x-python",
   "name": "python",
   "nbconvert_exporter": "python",
   "pygments_lexer": "ipython3",
   "version": "3.8.2"
  },
  "orig_nbformat": 4
 },
 "nbformat": 4,
 "nbformat_minor": 2
}
